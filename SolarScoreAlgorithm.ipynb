{
 "cells": [
  {
   "cell_type": "code",
   "execution_count": null,
   "metadata": {},
   "outputs": [],
   "source": [
    "import datetime\n",
    "import numpy as np\n",
    "import pandas as pd\n",
    "import matplotlib.pyplot as plt\n",
    "import seaborn as sns\n",
    "%matplotlib inline\n",
    "\n",
    "from sklearn.model_selection import train_test_split\n",
    "from IPython.display import display\n",
    "from IPython.display import Image\n",
    "from sklearn.externals.six import StringIO  \n",
    "from sklearn.tree import export_graphviz\n",
    "from sklearn.linear_model import LogisticRegression\n",
    "import pydot\n",
    "pd.options.display.max_columns = None\n"
   ]
  },
  {
   "cell_type": "code",
   "execution_count": null,
   "metadata": {},
   "outputs": [],
   "source": [
    "# import dta\n",
    "X = pd.read_csv('FinancialMetrics.csv')\n",
    "y = pd.read_csv('DPD90.csv')\n",
    "\n",
    "# split training data, validation data and test data\n",
    "X_train, X_test, y_train, y_test = train_test_split(X, y, test_size=0.3, random_state=102)\n",
    "X_train, X_val, y_train, y_val = train_test_split(X_train, y_train, test_size=0.3, random_state=102)"
   ]
  },
  {
   "cell_type": "markdown",
   "metadata": {},
   "source": [
    "AdaBoost Classifier"
   ]
  },
  {
   "cell_type": "code",
   "execution_count": null,
   "metadata": {},
   "outputs": [],
   "source": [
    "from sklearn.ensemble import AdaBoostClassifier\n",
    "from sklearn.tree import DecisionTreeClassifier\n",
    "\n",
    "bdt = AdaBoostClassifier(DecisionTreeClassifier(max_depth=1), algorithm=\"SAMME\", n_estimators=200)\n",
    "bdt.fit(X_train, y_train)\n",
    "bdt_val = bdt.predict(X_val)\n",
    "val_prob_bdt = bdt.predict_proba(X_val)\n",
    "bdt_pred = bdt.predict(X_test)\n",
    "pred_prob_bdt = bdt.predict_proba(X_test)\n",
    "\n",
    "from sklearn.metrics import classification_report,confusion_matrix\n",
    "print(confusion_matrix(y_test,bdt_pred))\n",
    "print(classification_report(y_test,bdt_pred))"
   ]
  },
  {
   "cell_type": "markdown",
   "metadata": {},
   "source": [
    "Random Forest Classifier"
   ]
  },
  {
   "cell_type": "code",
   "execution_count": null,
   "metadata": {},
   "outputs": [],
   "source": [
    "from sklearn.ensemble import RandomForestClassifier\n",
    "rfc = RandomForestClassifier() #\n",
    "rfc.fit(X_train, y_train)\n",
    "rfc_val = rfc.predict(X_val)\n",
    "val_prob_rfc = rfc.predict_proba(X_val)\n",
    "rfc_pred = rfc.predict(X_test)\n",
    "pred_prob_rfc = rfc.predict_proba(X_test)\n",
    "\n",
    "from sklearn.metrics import classification_report,confusion_matrix\n",
    "print(confusion_matrix(y_test,rfc_pred))\n",
    "print(classification_report(y_test,rfc_pred))"
   ]
  },
  {
   "cell_type": "markdown",
   "metadata": {},
   "source": [
    "Random Forest CrossValidation"
   ]
  },
  {
   "cell_type": "code",
   "execution_count": null,
   "metadata": {},
   "outputs": [],
   "source": [
    "from sklearn.model_selection import GridSearchCV\n",
    "rfc = RandomForestClassifier() \n",
    "\n",
    "param_grid = {'min_samples_leaf': [2, 4, 6], \n",
    "              'max_depth': [3, 6, 9, 12], \n",
    "              'min_samples_split': [2, 5, 10]}\n",
    "\n",
    "CV_rfc = GridSearchCV(estimator=rfc, param_grid=param_grid)\n",
    "CV_rfc.fit(X_train, y_train)\n",
    "CV_rfc_val = CV_rfc.predict(X_val)\n",
    "val_prob_CV_rfc = CV_rfc.predict_proba(X_val)\n",
    "CV_rfc_pred = CV_rfc.predict(X_test)\n",
    "pred_prob_CV_rfc = CV_rfc.predict_proba(X_test)\n",
    "\n",
    "print(confusion_matrix(y_test,CV_rfc_pred))\n",
    "print(classification_report(y_test,CV_rfc_pred))"
   ]
  },
  {
   "cell_type": "markdown",
   "metadata": {},
   "source": [
    "Support Vector Classifier"
   ]
  },
  {
   "cell_type": "code",
   "execution_count": null,
   "metadata": {},
   "outputs": [],
   "source": [
    "from sklearn.preprocessing import StandardScaler\n",
    "scaler = StandardScaler()\n",
    "scaler.fit(X)\n",
    "scaled_X = scaler.transform(X)"
   ]
  },
  {
   "cell_type": "code",
   "execution_count": null,
   "metadata": {},
   "outputs": [],
   "source": [
    "# X_train, X_test, y_train, y_test = train_test_split(scaled_X,y, test_size=0.30, random_state=101)\n",
    "X_train, X_test, y_train, y_test = train_test_split(scaled_X, y, test_size=0.3, random_state=102)\n",
    "X_train, X_val, y_train, y_val = train_test_split(X_train, y_train, test_size=0.3, random_state=102)"
   ]
  },
  {
   "cell_type": "code",
   "execution_count": null,
   "metadata": {
    "scrolled": true
   },
   "outputs": [],
   "source": [
    "from sklearn.svm import SVC\n",
    "svc = SVC(probability=True)\n",
    "svc.fit(X_train,y_train)\n",
    "svc_val = svc.predict(X_val)\n",
    "val_prob_svc = svc.predict_proba(X_val)\n",
    "svc_pred = svc.predict(X_test)\n",
    "pred_prob_svc = svc.predict_proba(X_test)\n",
    "\n",
    "svc_trainpred = pd.DataFrame(svc.predict(X_train))\n",
    "svc_testpred = pd.DataFrame(svc.predict(X_test))\n",
    "\n",
    "print(confusion_matrix(y_test,svc_pred))\n",
    "print(classification_report(y_test,svc_pred))"
   ]
  },
  {
   "cell_type": "markdown",
   "metadata": {},
   "source": [
    "k-Nearest Neigbors Classifier"
   ]
  },
  {
   "cell_type": "code",
   "execution_count": null,
   "metadata": {},
   "outputs": [],
   "source": [
    "from sklearn.neighbors import KNeighborsClassifier\n",
    "knn = KNeighborsClassifier(n_neighbors=20)\n",
    "knn.fit(X_train,y_train)\n",
    "knn_val = knn.predict(X_val)\n",
    "val_prob_knn = knn.predict_proba(X_val)\n",
    "knn_pred = knn.predict(X_test)\n",
    "pred_prob_knn = knn.predict_proba(X_test)\n",
    "\n",
    "print(confusion_matrix(y_test,knn_pred))\n",
    "print(classification_report(y_test,knn_pred))"
   ]
  },
  {
   "cell_type": "markdown",
   "metadata": {},
   "source": [
    "Stacking Ensemble Using Logistic Regression"
   ]
  },
  {
   "cell_type": "code",
   "execution_count": null,
   "metadata": {},
   "outputs": [],
   "source": [
    "ens_val = pd.concat([pd.DataFrame(val_prob_rfc[:,1]), \n",
    "                     pd.DataFrame(val_prob_svc[:,1]), \n",
    "                     pd.DataFrame(val_prob_bdt[:,1])], axis=1)\n",
    "ens_test = pd.concat([pd.DataFrame(pred_prob_rfc[:,1]), \n",
    "                      pd.DataFrame(pred_prob_svc[:,1]), \n",
    "                      pd.DataFrame(pred_prob_bdt[:,1])],axis=1)\n",
    "\n",
    "lrc = LogisticRegression()\n",
    "lrc.fit(ens_val, y_val)\n",
    "lrc_pred = lrc.predict(ens_test)\n",
    "lrc_val_pred = lrc.predict(ens_val)\n",
    "\n",
    "val_prob_lrc = lrc.predict_proba(ens_val)\n",
    "pred_prob_lrc = lrc.predict_proba(ens_test)\n",
    "\n",
    "lrc_valpred = pd.DataFrame(val_prob_lrc)\n",
    "lrc_testpred = pd.DataFrame(pred_prob_lrc)\n",
    "\n",
    "print(confusion_matrix(y_test,lrc_pred))\n",
    "print(classification_report(y_test,lrc_pred))"
   ]
  },
  {
   "cell_type": "code",
   "execution_count": null,
   "metadata": {},
   "outputs": [],
   "source": []
  }
 ],
 "metadata": {
  "kernelspec": {
   "display_name": "Python 3",
   "language": "python",
   "name": "python3"
  },
  "language_info": {
   "codemirror_mode": {
    "name": "ipython",
    "version": 3
   },
   "file_extension": ".py",
   "mimetype": "text/x-python",
   "name": "python",
   "nbconvert_exporter": "python",
   "pygments_lexer": "ipython3",
   "version": "3.7.3"
  }
 },
 "nbformat": 4,
 "nbformat_minor": 2
}
